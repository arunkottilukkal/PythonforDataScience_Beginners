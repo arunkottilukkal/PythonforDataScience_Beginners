{
 "cells": [
  {
   "cell_type": "code",
   "execution_count": 1,
   "metadata": {},
   "outputs": [],
   "source": [
    "num1 = 10\n",
    "num2 = 20\n",
    "result = num1 + num2"
   ]
  },
  {
   "cell_type": "code",
   "execution_count": 2,
   "metadata": {},
   "outputs": [
    {
     "name": "stdout",
     "output_type": "stream",
     "text": [
      "30\n"
     ]
    }
   ],
   "source": [
    "print(result)"
   ]
  },
  {
   "cell_type": "code",
   "execution_count": 4,
   "metadata": {},
   "outputs": [
    {
     "name": "stdout",
     "output_type": "stream",
     "text": [
      "210\n"
     ]
    }
   ],
   "source": [
    "result = num1*num2 + num1 # 10*20+10\n",
    "print(result)\n",
    "#First Part : 10*20\n",
    "#Second Part : 200 + 10\n",
    "#Result : 210"
   ]
  },
  {
   "cell_type": "code",
   "execution_count": 6,
   "metadata": {},
   "outputs": [
    {
     "name": "stdout",
     "output_type": "stream",
     "text": [
      "300\n"
     ]
    }
   ],
   "source": [
    "result = num1*(num2 + num1) # 10*(20+10)\n",
    "print(result)\n",
    "#First Part : (20+10)\n",
    "#Second Part : 10*30\n",
    "#Result : 300"
   ]
  },
  {
   "cell_type": "code",
   "execution_count": 8,
   "metadata": {},
   "outputs": [
    {
     "name": "stdout",
     "output_type": "stream",
     "text": [
      "20.0\n"
     ]
    }
   ],
   "source": [
    "result = num1*num2/num1 # 10*20/10\n",
    "print(result)\n",
    "#First Part : 10*20\n",
    "#Second Part : 200/10\n",
    "#Result : 20.0"
   ]
  },
  {
   "cell_type": "code",
   "execution_count": 10,
   "metadata": {},
   "outputs": [
    {
     "name": "stdout",
     "output_type": "stream",
     "text": [
      "20.0\n"
     ]
    }
   ],
   "source": [
    "result = num1*(num2/num1) # 10*(20/10)\n",
    "print(result)\n",
    "#First Part : 20/10\n",
    "#Second Part : 10*2.0\n",
    "#Result : 20.0"
   ]
  },
  {
   "cell_type": "code",
   "execution_count": 11,
   "metadata": {},
   "outputs": [
    {
     "name": "stdout",
     "output_type": "stream",
     "text": [
      "200.5\n"
     ]
    }
   ],
   "source": [
    "result = (num1/num2)+num2*num1 # (10/20) + 20*10\n",
    "print(result)\n",
    "#First Part : 10/20 = .5\n",
    "#Second Part : 20*10 = 200\n",
    "#Third Part : .5 + 200\n",
    "#Result : 200.5"
   ]
  },
  {
   "cell_type": "code",
   "execution_count": 20,
   "metadata": {},
   "outputs": [
    {
     "name": "stdout",
     "output_type": "stream",
     "text": [
      "0.045454545454545456\n"
     ]
    }
   ],
   "source": [
    "result = num1/(num2+(num2*num1))# 10/(20+(20*10))\n",
    "print(result)\n",
    "#First Part : 20*10 = 200\n",
    "#Second Part : 20 + 220 = 240\n",
    "#Third Part : 10/240 = 0.04545..\n",
    "#Result : 0.04545.."
   ]
  },
  {
   "cell_type": "code",
   "execution_count": 19,
   "metadata": {},
   "outputs": [
    {
     "name": "stdout",
     "output_type": "stream",
     "text": [
      "100\n"
     ]
    }
   ],
   "source": [
    "result = num1**2 # 10 ** 2\n",
    "print(result)\n",
    "#First Part : 10 * 10\n",
    "#Result : 100"
   ]
  },
  {
   "cell_type": "code",
   "execution_count": null,
   "metadata": {},
   "outputs": [],
   "source": []
  }
 ],
 "metadata": {
  "kernelspec": {
   "display_name": "Python 3",
   "language": "python",
   "name": "python3"
  },
  "language_info": {
   "codemirror_mode": {
    "name": "ipython",
    "version": 3
   },
   "file_extension": ".py",
   "mimetype": "text/x-python",
   "name": "python",
   "nbconvert_exporter": "python",
   "pygments_lexer": "ipython3",
   "version": "3.7.3"
  }
 },
 "nbformat": 4,
 "nbformat_minor": 2
}

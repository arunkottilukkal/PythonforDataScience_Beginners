{
 "cells": [
  {
   "cell_type": "code",
   "execution_count": 2,
   "metadata": {},
   "outputs": [
    {
     "name": "stdout",
     "output_type": "stream",
     "text": [
      "True\n"
     ]
    }
   ],
   "source": [
    "def writeContent(line):\n",
    "    result = False\n",
    "    file_path = \"C:/Users/Arun_Ke/Desktop/namedb.csv\"\n",
    "    read_mode = \"a\"\n",
    "    with open(file_path, read_mode) as file:\n",
    "        file.writelines(line)\n",
    "        file.writelines('\\n')\n",
    "        result = True\n",
    "        return result\n",
    "\n",
    "written = writeContent('Arun')\n",
    "print(written)"
   ]
  },
  {
   "cell_type": "code",
   "execution_count": null,
   "metadata": {},
   "outputs": [],
   "source": []
  }
 ],
 "metadata": {
  "kernelspec": {
   "display_name": "Python 3",
   "language": "python",
   "name": "python3"
  },
  "language_info": {
   "codemirror_mode": {
    "name": "ipython",
    "version": 3
   },
   "file_extension": ".py",
   "mimetype": "text/x-python",
   "name": "python",
   "nbconvert_exporter": "python",
   "pygments_lexer": "ipython3",
   "version": "3.7.3"
  }
 },
 "nbformat": 4,
 "nbformat_minor": 2
}

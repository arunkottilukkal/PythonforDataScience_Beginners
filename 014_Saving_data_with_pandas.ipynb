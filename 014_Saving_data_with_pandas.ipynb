{
 "cells": [
  {
   "cell_type": "code",
   "execution_count": 37,
   "metadata": {},
   "outputs": [
    {
     "name": "stdout",
     "output_type": "stream",
     "text": [
      "Arun Kesavan 43.75\n",
      "Bharath Rajan B 77.83333333333333\n",
      "Deva Domala 55.0\n",
      "Dileep Kumar S 83.18333333333334\n",
      "Hari 76.08333333333334\n",
      "Jessi Peter 83.33333333333334\n",
      "Kamia Radhwani 70.0\n",
      "Kanchana Mala J 99.00000000000001\n",
      "kishore 64.0\n",
      "Manmeet Kaur 66.0\n",
      "mogal jilan 78.08333333333334\n",
      "Mohd Mustafa Khan 78.75000000000001\n",
      "Muruganandam S 88.0\n",
      "Naveen 57.64499999999998\n",
      "Prakash.p 84.26666666666665\n",
      "Rajesh Veeraiyan 83.4\n",
      "Sateesh G 90.0\n",
      "Srinivas 75.25\n",
      "Sudha C 51.03333333333334\n",
      "Surbhit Bajpai 57.0\n",
      "Venkatesh 17.999999999999805\n",
      "Vigneshwaran Thenraj 70.5\n",
      "Vishnu Dash 40.6111111111111\n",
      "Yuvaraj 24.499999999999993\n"
     ]
    }
   ],
   "source": [
    "import pandas as pd\n",
    "from datetime import date\n",
    "\n",
    "\n",
    "def totalTime(dfNew, eName):\n",
    "    nDF = dfNew[dfNew['Employee Name'] == eName]\n",
    "    corePath = \"C:/Users/Arun_Ke/Desktop/\"\n",
    "#     nDF.to_excel(corePath+eName+'.xlsx')\n",
    "#     nDF.to_csv(corePath+eName+'.csv')\n",
    "\n",
    "    myhours = 0\n",
    "    for hours in nDF['TotalTime']:\n",
    "        myhours += hours\n",
    "    return myhours,eName\n",
    "\n",
    "inFile = \"C:/Users/Arun_Ke/Desktop/ConsolidateMyHoursSheet.xlsx\"\n",
    "df = pd.read_excel(open(inFile,'rb'),sheet_name='MyHours')\n",
    "\n",
    "value_to_check = pd.Timestamp(date.today().year, 9, 1)\n",
    "filter_mask = pd.to_datetime(df['Date']) >= value_to_check\n",
    "newDF = df[filter_mask]\n",
    "\n",
    "# newDataSet = newDF[newDF['Internal Task'] == 'Yes']\n",
    "newDataSet = newDF\n",
    "employees = newDataSet['Employee Name'].unique()\n",
    "for name in employees:\n",
    "    hours, name = totalTime(newDataSet, name)\n",
    "    print(name, hours)"
   ]
  },
  {
   "cell_type": "code",
   "execution_count": null,
   "metadata": {},
   "outputs": [],
   "source": []
  }
 ],
 "metadata": {
  "kernelspec": {
   "display_name": "Python 3",
   "language": "python",
   "name": "python3"
  },
  "language_info": {
   "codemirror_mode": {
    "name": "ipython",
    "version": 3
   },
   "file_extension": ".py",
   "mimetype": "text/x-python",
   "name": "python",
   "nbconvert_exporter": "python",
   "pygments_lexer": "ipython3",
   "version": "3.7.3"
  }
 },
 "nbformat": 4,
 "nbformat_minor": 2
}

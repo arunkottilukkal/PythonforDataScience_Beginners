{
 "cells": [
  {
   "cell_type": "code",
   "execution_count": 4,
   "metadata": {},
   "outputs": [
    {
     "name": "stdout",
     "output_type": "stream",
     "text": [
      "Adult or not confirmation\n",
      "Enter your year of birth : 1990\n",
      "You can enter this zone\n"
     ]
    }
   ],
   "source": [
    "from datetime import date\n",
    "print(\"Adult or not confirmation\")\n",
    "current_date = date.today()\n",
    "current_year = current_date.year\n",
    "year_of_birth = int(input(\"Enter your year of birth : \"))\n",
    "\n",
    "age = current_year - year_of_birth\n",
    "\n",
    "if age<18:\n",
    "    print(\"Sorry you are not allowed to continue this.\")\n",
    "elif age>18 and age<30:\n",
    "    print(\"You can enter this zone\")\n",
    "elif age>29 and age<60:\n",
    "    print(\"Only kids are allowed in here\")\n",
    "else:\n",
    "    print(\"Stay calm!!!!\")\n"
   ]
  }
 ],
 "metadata": {
  "kernelspec": {
   "display_name": "Python 3",
   "language": "python",
   "name": "python3"
  },
  "language_info": {
   "codemirror_mode": {
    "name": "ipython",
    "version": 3
   },
   "file_extension": ".py",
   "mimetype": "text/x-python",
   "name": "python",
   "nbconvert_exporter": "python",
   "pygments_lexer": "ipython3",
   "version": "3.7.3"
  }
 },
 "nbformat": 4,
 "nbformat_minor": 2
}

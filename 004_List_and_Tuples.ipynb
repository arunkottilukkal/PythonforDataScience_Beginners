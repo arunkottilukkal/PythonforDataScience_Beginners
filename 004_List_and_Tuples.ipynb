{
 "cells": [
  {
   "cell_type": "code",
   "execution_count": 1,
   "metadata": {},
   "outputs": [
    {
     "name": "stdout",
     "output_type": "stream",
     "text": [
      "(10, 20.5, 'Satheesh', (20, 50, 'Rajesh'))\n"
     ]
    }
   ],
   "source": [
    "dataset = (10, 20.5, 'Satheesh', (20, 50, 'Rajesh'))\n",
    "print(dataset)"
   ]
  },
  {
   "cell_type": "code",
   "execution_count": 2,
   "metadata": {},
   "outputs": [
    {
     "name": "stdout",
     "output_type": "stream",
     "text": [
      "(10, 20.5, 'Satheesh', (20, 50, 'Rajesh'))\n"
     ]
    }
   ],
   "source": [
    "print(dataset[0:len(dataset)])"
   ]
  },
  {
   "cell_type": "code",
   "execution_count": 3,
   "metadata": {},
   "outputs": [
    {
     "name": "stdout",
     "output_type": "stream",
     "text": [
      "(10,)\n"
     ]
    }
   ],
   "source": [
    "print(dataset[::len(dataset)])"
   ]
  },
  {
   "cell_type": "code",
   "execution_count": 4,
   "metadata": {},
   "outputs": [
    {
     "name": "stdout",
     "output_type": "stream",
     "text": [
      "10\n"
     ]
    }
   ],
   "source": [
    "print(dataset[0])"
   ]
  },
  {
   "cell_type": "code",
   "execution_count": 5,
   "metadata": {},
   "outputs": [
    {
     "name": "stdout",
     "output_type": "stream",
     "text": [
      "(20, 50, 'Rajesh')\n"
     ]
    }
   ],
   "source": [
    "print(dataset[3])"
   ]
  },
  {
   "cell_type": "code",
   "execution_count": 6,
   "metadata": {},
   "outputs": [
    {
     "name": "stdout",
     "output_type": "stream",
     "text": [
      "Rajesh\n"
     ]
    }
   ],
   "source": [
    "print(dataset[3][2])"
   ]
  },
  {
   "cell_type": "code",
   "execution_count": 7,
   "metadata": {},
   "outputs": [
    {
     "name": "stdout",
     "output_type": "stream",
     "text": [
      "[0, 10.5, 'data', [1, 5]]\n"
     ]
    }
   ],
   "source": [
    "nList = [0, 10.5, 'data', [1, 5]]\n",
    "print(nList)"
   ]
  },
  {
   "cell_type": "code",
   "execution_count": 8,
   "metadata": {},
   "outputs": [
    {
     "name": "stdout",
     "output_type": "stream",
     "text": [
      "[0, 10.5, 'data', [1, 5], 'Hello', 'World']\n"
     ]
    }
   ],
   "source": [
    "nList.extend(['Hello', 'World'])\n",
    "print(nList)"
   ]
  },
  {
   "cell_type": "code",
   "execution_count": 9,
   "metadata": {},
   "outputs": [
    {
     "name": "stdout",
     "output_type": "stream",
     "text": [
      "[0, 10.5, 'data', [1, 5], 'Hello', 'World', ['Hello', 'World']]\n"
     ]
    }
   ],
   "source": [
    "nList.append(['Hello', 'World'])\n",
    "print(nList)"
   ]
  },
  {
   "cell_type": "code",
   "execution_count": 10,
   "metadata": {},
   "outputs": [
    {
     "name": "stdout",
     "output_type": "stream",
     "text": [
      "7\n"
     ]
    }
   ],
   "source": [
    "print(len(nList))"
   ]
  },
  {
   "cell_type": "code",
   "execution_count": 11,
   "metadata": {},
   "outputs": [
    {
     "name": "stdout",
     "output_type": "stream",
     "text": [
      "World\n"
     ]
    }
   ],
   "source": [
    "print(nList[6][1])"
   ]
  },
  {
   "cell_type": "code",
   "execution_count": 13,
   "metadata": {},
   "outputs": [
    {
     "name": "stdout",
     "output_type": "stream",
     "text": [
      "[0, 10.5, 'data', [1, 5], 'Hello', 'World', ['Hello', 'World']]\n"
     ]
    }
   ],
   "source": [
    "nList2 = nList[:]\n",
    "print(nList2)"
   ]
  },
  {
   "cell_type": "code",
   "execution_count": 14,
   "metadata": {},
   "outputs": [
    {
     "name": "stdout",
     "output_type": "stream",
     "text": [
      "[0, 'data', [1, 5], 'Hello', 'World', ['Hello', 'World']] [0, 10.5, 'data', [1, 5], 'Hello', 'World', ['Hello', 'World']]\n"
     ]
    }
   ],
   "source": [
    "del(nList[1])\n",
    "print(nList, nList2)"
   ]
  },
  {
   "cell_type": "code",
   "execution_count": 15,
   "metadata": {},
   "outputs": [
    {
     "name": "stdout",
     "output_type": "stream",
     "text": [
      "[0, 'data', [1, 5], 'Hello', 'World', ['Hello', 'World']]\n",
      "[0, 10.5, 'data', [1, 5], 'Hello', 'World', ['Hello', 'World']]\n"
     ]
    }
   ],
   "source": [
    "print(nList)\n",
    "print(nList2)"
   ]
  },
  {
   "cell_type": "code",
   "execution_count": 16,
   "metadata": {},
   "outputs": [
    {
     "name": "stdout",
     "output_type": "stream",
     "text": [
      "[0, (10, 20), [1, 5], 'Hello', 'World', ['Hello', 'World']]\n"
     ]
    }
   ],
   "source": [
    "nList[1] = (10, 20)\n",
    "print(nList)"
   ]
  },
  {
   "cell_type": "code",
   "execution_count": null,
   "metadata": {},
   "outputs": [],
   "source": []
  }
 ],
 "metadata": {
  "kernelspec": {
   "display_name": "Python 3",
   "language": "python",
   "name": "python3"
  },
  "language_info": {
   "codemirror_mode": {
    "name": "ipython",
    "version": 3
   },
   "file_extension": ".py",
   "mimetype": "text/x-python",
   "name": "python",
   "nbconvert_exporter": "python",
   "pygments_lexer": "ipython3",
   "version": "3.7.3"
  }
 },
 "nbformat": 4,
 "nbformat_minor": 2
}

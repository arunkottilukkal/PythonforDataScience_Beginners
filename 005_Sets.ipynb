{
 "cells": [
  {
   "cell_type": "code",
   "execution_count": 2,
   "metadata": {},
   "outputs": [
    {
     "name": "stdout",
     "output_type": "stream",
     "text": [
      "{'Kanchana', 'Rajesh', 'Muru'}\n"
     ]
    }
   ],
   "source": [
    "name_set1 = {'Satheesh', 'Rajesh', 'Anand', 'Kanchana', 'Muru'}\n",
    "name_set2 = {'Rajesh', 'Muru', 'Kanchana'}\n",
    "macro_team = name_set1 & name_set2\n",
    "print(macro_team)"
   ]
  },
  {
   "cell_type": "code",
   "execution_count": 3,
   "metadata": {},
   "outputs": [
    {
     "name": "stdout",
     "output_type": "stream",
     "text": [
      "{'Satheesh', 'Anand'}\n"
     ]
    }
   ],
   "source": [
    "print(name_set1.difference(name_set2))"
   ]
  },
  {
   "cell_type": "code",
   "execution_count": 4,
   "metadata": {},
   "outputs": [
    {
     "name": "stdout",
     "output_type": "stream",
     "text": [
      "{'Kanchana', 'Rajesh', 'Muru'}\n"
     ]
    }
   ],
   "source": [
    "print(name_set1.intersection(name_set2))"
   ]
  },
  {
   "cell_type": "code",
   "execution_count": 5,
   "metadata": {},
   "outputs": [
    {
     "name": "stdout",
     "output_type": "stream",
     "text": [
      "{'Anand', 'Kanchana', 'Satheesh', 'Rajesh', 'Muru'}\n"
     ]
    }
   ],
   "source": [
    "print(name_set1.union(name_set2))"
   ]
  },
  {
   "cell_type": "code",
   "execution_count": 6,
   "metadata": {},
   "outputs": [
    {
     "name": "stdout",
     "output_type": "stream",
     "text": [
      "True\n"
     ]
    }
   ],
   "source": [
    "print(name_set1.issuperset(name_set2))"
   ]
  },
  {
   "cell_type": "code",
   "execution_count": null,
   "metadata": {},
   "outputs": [],
   "source": []
  }
 ],
 "metadata": {
  "kernelspec": {
   "display_name": "Python 3",
   "language": "python",
   "name": "python3"
  },
  "language_info": {
   "codemirror_mode": {
    "name": "ipython",
    "version": 3
   },
   "file_extension": ".py",
   "mimetype": "text/x-python",
   "name": "python",
   "nbconvert_exporter": "python",
   "pygments_lexer": "ipython3",
   "version": "3.7.3"
  }
 },
 "nbformat": 4,
 "nbformat_minor": 2
}

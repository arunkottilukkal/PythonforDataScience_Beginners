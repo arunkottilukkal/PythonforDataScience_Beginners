{
 "cells": [
  {
   "cell_type": "code",
   "execution_count": 1,
   "metadata": {},
   "outputs": [
    {
     "name": "stdout",
     "output_type": "stream",
     "text": [
      "['Rajesh', 'Kanchana', 'Muru']\n"
     ]
    }
   ],
   "source": [
    "team = {'Macro':['Rajesh','Kanchana','Muru'],'RPA':['Arun','Hari','Arivoli'],'Developers':['Venkatesh','Mustafa','Kishore','Jilan','Srinivas'],'PMO':['Balvinder'],'PM':['Deepak','Anand']}\n",
    "print(team['Macro'])"
   ]
  },
  {
   "cell_type": "code",
   "execution_count": 2,
   "metadata": {},
   "outputs": [
    {
     "name": "stdout",
     "output_type": "stream",
     "text": [
      "['Arun', 'Hari', 'Arivoli']\n"
     ]
    }
   ],
   "source": [
    "print(team['RPA'])"
   ]
  },
  {
   "cell_type": "code",
   "execution_count": 3,
   "metadata": {},
   "outputs": [
    {
     "name": "stdout",
     "output_type": "stream",
     "text": [
      "dict_keys(['Macro', 'RPA', 'Developers', 'PMO', 'PM'])\n"
     ]
    }
   ],
   "source": [
    "print(team.keys())"
   ]
  },
  {
   "cell_type": "code",
   "execution_count": 4,
   "metadata": {},
   "outputs": [
    {
     "name": "stdout",
     "output_type": "stream",
     "text": [
      "dict_values([['Rajesh', 'Kanchana', 'Muru'], ['Arun', 'Hari', 'Arivoli'], ['Venkatesh', 'Mustafa', 'Kishore', 'Jilan', 'Srinivas'], ['Balvinder'], ['Deepak', 'Anand']])\n"
     ]
    }
   ],
   "source": [
    "print(team.values())"
   ]
  },
  {
   "cell_type": "code",
   "execution_count": null,
   "metadata": {},
   "outputs": [],
   "source": []
  }
 ],
 "metadata": {
  "kernelspec": {
   "display_name": "Python 3",
   "language": "python",
   "name": "python3"
  },
  "language_info": {
   "codemirror_mode": {
    "name": "ipython",
    "version": 3
   },
   "file_extension": ".py",
   "mimetype": "text/x-python",
   "name": "python",
   "nbconvert_exporter": "python",
   "pygments_lexer": "ipython3",
   "version": "3.7.3"
  }
 },
 "nbformat": 4,
 "nbformat_minor": 2
}

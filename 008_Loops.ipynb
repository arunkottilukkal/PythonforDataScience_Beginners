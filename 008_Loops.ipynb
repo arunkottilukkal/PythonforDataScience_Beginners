{
 "cells": [
  {
   "cell_type": "code",
   "execution_count": 2,
   "metadata": {},
   "outputs": [
    {
     "name": "stdout",
     "output_type": "stream",
     "text": [
      "{'Head': ['Laurence R'], 'PMO': ['Balvinder'], 'PM': ['Deepak', 'Anand', 'Radha', 'Gaurav'], 'Leads': ['Arun K', 'Harikrishna R', 'Arivoli D'], 'Macro': ['Rajesh', 'Kanchana', 'Muru'], 'BA': ['Vignesh', 'Bharath', 'Manmeeth', 'Yuvaraj', 'Subith', 'Vikram'], 'RPA Developers': ['Akash D', 'Puneeth', 'Dileep', 'Jessi', 'Mustafa', 'Sudha', 'Prakash', 'Navin', 'Sreenivas', 'Jilan', 'Venkatesh', 'Vishnu', 'Sreeram'], 'General Admin': 'Satheesh G'}\n"
     ]
    }
   ],
   "source": [
    "name_set = {'Head':['Laurence R'], 'PMO':['Balvinder'],'PM':['Deepak', 'Anand', 'Radha', 'Gaurav'], 'Leads':['Arun K', 'Harikrishna R', 'Arivoli D'],'Macro':['Rajesh', 'Kanchana', 'Muru'],'BA':['Vignesh', 'Bharath', 'Manmeeth', 'Yuvaraj', 'Subith', 'Vikram'],'RPA Developers':['Akash D', 'Puneeth', 'Dileep', 'Jessi', 'Mustafa', 'Sudha', 'Prakash', 'Navin', 'Sreenivas', 'Jilan', 'Venkatesh', 'Vishnu', 'Sreeram'],'General Admin':'Satheesh G'}\n",
    "print(name_set)"
   ]
  },
  {
   "cell_type": "code",
   "execution_count": 4,
   "metadata": {},
   "outputs": [
    {
     "name": "stdout",
     "output_type": "stream",
     "text": [
      "Arun K\n",
      "Harikrishna R\n",
      "Arivoli D\n"
     ]
    }
   ],
   "source": [
    "for i, lead in enumerate(name_set['Leads']):\n",
    "    print(lead)"
   ]
  },
  {
   "cell_type": "code",
   "execution_count": null,
   "metadata": {},
   "outputs": [],
   "source": []
  }
 ],
 "metadata": {
  "kernelspec": {
   "display_name": "Python 3",
   "language": "python",
   "name": "python3"
  },
  "language_info": {
   "codemirror_mode": {
    "name": "ipython",
    "version": 3
   },
   "file_extension": ".py",
   "mimetype": "text/x-python",
   "name": "python",
   "nbconvert_exporter": "python",
   "pygments_lexer": "ipython3",
   "version": "3.7.3"
  }
 },
 "nbformat": 4,
 "nbformat_minor": 2
}

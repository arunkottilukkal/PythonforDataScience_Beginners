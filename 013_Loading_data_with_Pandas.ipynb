{
 "cells": [
  {
   "cell_type": "code",
   "execution_count": 3,
   "metadata": {},
   "outputs": [
    {
     "name": "stdout",
     "output_type": "stream",
     "text": [
      "cgallagher@schoolwires.com\n",
      "cgallagher@schoolwires.com\n",
      "cgallagher@schoolwires.com\n",
      "cgallagher@schoolwires.com\n",
      "cgallagher@schoolwires.com\n",
      "cgallagher@schoolwires.com\n",
      "cgallagher@schoolwires.com\n",
      "cgallagher@schoolwires.com\n",
      "cgallagher@schoolwires.com\n",
      "cgallagher@schoolwires.com\n",
      "cgallagher@schoolwires.com\n",
      "cgallagher@schoolwires.com\n",
      "cgallagher@schoolwires.com\n",
      "cgallagher@schoolwires.com\n",
      "cgallagher@schoolwires.com\n",
      "cgallagher@schoolwires.com\n",
      "cgallagher@schoolwires.com\n",
      "cgallagher@schoolwires.com\n",
      "cgallagher@schoolwires.com\n",
      "cgallagher@schoolwires.com\n",
      "cgallagher@schoolwires.com\n",
      "cgallagher@schoolwires.com\n",
      "cgallagher@schoolwires.com\n",
      "cgallagher@schoolwires.com\n"
     ]
    }
   ],
   "source": [
    "import pandas as pd\n",
    "\n",
    "inFile = \"C:/Users/Arun_Ke/Desktop/HalfHourParentTeacherConferenceSampleImportFile.csv\"\n",
    "\n",
    "df = pd.read_csv(inFile)\n",
    "# df.head()\n",
    "for data in df['Contact Email']:\n",
    "    print(data)\n",
    "# df.ix[0,'Contact Email']\n",
    "# df.ix[0,0]\n"
   ]
  },
  {
   "cell_type": "code",
   "execution_count": null,
   "metadata": {},
   "outputs": [],
   "source": []
  }
 ],
 "metadata": {
  "kernelspec": {
   "display_name": "Python 3",
   "language": "python",
   "name": "python3"
  },
  "language_info": {
   "codemirror_mode": {
    "name": "ipython",
    "version": 3
   },
   "file_extension": ".py",
   "mimetype": "text/x-python",
   "name": "python",
   "nbconvert_exporter": "python",
   "pygments_lexer": "ipython3",
   "version": "3.7.3"
  }
 },
 "nbformat": 4,
 "nbformat_minor": 2
}
